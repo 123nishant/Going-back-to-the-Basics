{
  "nbformat": 4,
  "nbformat_minor": 0,
  "metadata": {
    "colab": {
      "name": "Tuning Algorithm Parameters with Scikit-Learn.ipynb",
      "provenance": [],
      "authorship_tag": "ABX9TyO3yqHGdp2e1Da7OG24QrmO",
      "include_colab_link": true
    },
    "kernelspec": {
      "name": "python3",
      "display_name": "Python 3"
    }
  },
  "cells": [
    {
      "cell_type": "markdown",
      "metadata": {
        "id": "view-in-github",
        "colab_type": "text"
      },
      "source": [
        "<a href=\"https://colab.research.google.com/github/123nishant/Going-back-to-the-Basics/blob/main/Tuning_Algorithm_Parameters_with_Scikit_Learn.ipynb\" target=\"_parent\"><img src=\"https://colab.research.google.com/assets/colab-badge.svg\" alt=\"Open In Colab\"/></a>"
      ]
    },
    {
      "cell_type": "markdown",
      "metadata": {
        "id": "D192D8wdksKk"
      },
      "source": [
        "**Grid Search Parameter Tuning**\n",
        "\n",
        "Approach that will methodically build and evaluate a model for each combination of algorithm parameters specified in a grid.\n",
        "\n",
        "Recipe below evaluates different alpha values for Ridge Regression on standard Diabetes dataset.\n",
        "\n",
        "This is 1d Grid search"
      ]
    },
    {
      "cell_type": "code",
      "metadata": {
        "colab": {
          "base_uri": "https://localhost:8080/"
        },
        "id": "5_z5VGMTki9B",
        "outputId": "04fdb0c0-e887-4b61-f94f-ae44b3895035"
      },
      "source": [
        "import numpy as np\n",
        "from sklearn import datasets\n",
        "from sklearn.linear_model import Ridge\n",
        "from sklearn.model_selection import GridSearchCV\n",
        "\n",
        "# Load dataset\n",
        "dataset = datasets.load_diabetes()\n",
        "\n",
        "# Prepare a range of alpha values to test\n",
        "alphas = np.array([1, 0, 1, 0.01, 0.001, 0.0001, 0])\n",
        "\n",
        "# Create and fit a rifge regression mode, testing each alpha\n",
        "model = Ridge()\n",
        "grid = GridSearchCV(estimator = model, param_grid = dict(alpha = alphas))\n",
        "grid.fit(dataset.data, dataset.target)\n",
        "print(grid)\n",
        "\n",
        "\n",
        "# Summarize results of grid search \n",
        "print(grid.best_score_)\n",
        "print(grid.best_estimator_.alpha)\n"
      ],
      "execution_count": 4,
      "outputs": [
        {
          "output_type": "stream",
          "text": [
            "GridSearchCV(cv=None, error_score=nan,\n",
            "             estimator=Ridge(alpha=1.0, copy_X=True, fit_intercept=True,\n",
            "                             max_iter=None, normalize=False, random_state=None,\n",
            "                             solver='auto', tol=0.001),\n",
            "             iid='deprecated', n_jobs=None,\n",
            "             param_grid={'alpha': array([1.e+00, 0.e+00, 1.e+00, 1.e-02, 1.e-03, 1.e-04, 0.e+00])},\n",
            "             pre_dispatch='2*n_jobs', refit=True, return_train_score=False,\n",
            "             scoring=None, verbose=0)\n",
            "0.4823231384163485\n",
            "0.0001\n"
          ],
          "name": "stdout"
        }
      ]
    },
    {
      "cell_type": "markdown",
      "metadata": {
        "id": "rzLtzIQQmBx0"
      },
      "source": [
        "**Random Search Parameter Tuning**\n",
        "\n",
        "Sample algorithm parameters from a random distribution (i.e. uniform) for a fixed number of iterations. A model is constructed and evaluated for each combination of parameters chosen.\n",
        "\n",
        "Recipe below evaluates different alpha random values between 0 and 1 for the Ridge Regression Algorithm on the standard diabetes dataset"
      ]
    },
    {
      "cell_type": "code",
      "metadata": {
        "colab": {
          "base_uri": "https://localhost:8080/"
        },
        "id": "P2Hukk5alLvh",
        "outputId": "5fb87039-e233-4bf8-ca28-89aaec05d847"
      },
      "source": [
        "import numpy as np\n",
        "from scipy.stats import uniform as sp_rand\n",
        "from sklearn import datasets\n",
        "from sklearn.linear_model import Ridge\n",
        "from sklearn.model_selection import RandomizedSearchCV\n",
        "\n",
        "# Load the diabetes dataset\n",
        "dataset = datasets.load_diabetes()\n",
        "\n",
        "# Prepare a uniform distribution to sample alpha parameter\n",
        "param_grid = {'alpha': sp_rand()}\n",
        "\n",
        "# Create and fit a ridge regression model, testing random alpha values\n",
        "model = Ridge()\n",
        "rsearch = RandomizedSearchCV(estimator = model, param_distributions = param_grid, n_iter = 100)\n",
        "rsearch.fit(dataset.data, dataset.target)\n",
        "print(rsearch)\n",
        "\n",
        "# Summarise results of random parameter search\n",
        "print(rsearch.best_score_)\n",
        "print(rsearch.best_estimator_.alpha)"
      ],
      "execution_count": 5,
      "outputs": [
        {
          "output_type": "stream",
          "text": [
            "RandomizedSearchCV(cv=None, error_score=nan,\n",
            "                   estimator=Ridge(alpha=1.0, copy_X=True, fit_intercept=True,\n",
            "                                   max_iter=None, normalize=False,\n",
            "                                   random_state=None, solver='auto',\n",
            "                                   tol=0.001),\n",
            "                   iid='deprecated', n_iter=100, n_jobs=None,\n",
            "                   param_distributions={'alpha': <scipy.stats._distn_infrastructure.rv_frozen object at 0x7fb71a88cef0>},\n",
            "                   pre_dispatch='2*n_jobs', random_state=None, refit=True,\n",
            "                   return_train_score=False, scoring=None, verbose=0)\n",
            "0.4819129219113143\n",
            "0.004700369372787505\n"
          ],
          "name": "stdout"
        }
      ]
    },
    {
      "cell_type": "code",
      "metadata": {
        "id": "f3SQthpFnSMR"
      },
      "source": [
        ""
      ],
      "execution_count": null,
      "outputs": []
    }
  ]
}