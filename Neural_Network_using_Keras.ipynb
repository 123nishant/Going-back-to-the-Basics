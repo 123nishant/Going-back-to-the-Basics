{
  "nbformat": 4,
  "nbformat_minor": 0,
  "metadata": {
    "colab": {
      "name": "Neural Network using Keras.ipynb",
      "provenance": [],
      "authorship_tag": "ABX9TyO0ZVNyujrYTjL1TqPvdYFL",
      "include_colab_link": true
    },
    "kernelspec": {
      "name": "python3",
      "display_name": "Python 3"
    }
  },
  "cells": [
    {
      "cell_type": "markdown",
      "metadata": {
        "id": "view-in-github",
        "colab_type": "text"
      },
      "source": [
        "<a href=\"https://colab.research.google.com/github/123nishant/Going-back-to-the-Basics/blob/main/Neural_Network_using_Keras.ipynb\" target=\"_parent\"><img src=\"https://colab.research.google.com/assets/colab-badge.svg\" alt=\"Open In Colab\"/></a>"
      ]
    },
    {
      "cell_type": "markdown",
      "metadata": {
        "id": "xtWOehs2T1ys"
      },
      "source": [
        "Load Data"
      ]
    },
    {
      "cell_type": "code",
      "metadata": {
        "id": "daAjb5wSTxVY"
      },
      "source": [
        "from numpy import loadtxt\n",
        "from keras.models import Sequential\n",
        "from keras.layers import Dense\n",
        "import pandas as pd"
      ],
      "execution_count": null,
      "outputs": []
    },
    {
      "cell_type": "code",
      "metadata": {
        "id": "H7mbACXwUq1q"
      },
      "source": [
        "dataset = loadtxt(\"dataset.csv\", delimiter = ',')"
      ],
      "execution_count": null,
      "outputs": []
    },
    {
      "cell_type": "code",
      "metadata": {
        "id": "x8XutjY5WEeU"
      },
      "source": [
        "X = dataset[:,0:8]\n",
        "y = dataset[:,8]"
      ],
      "execution_count": null,
      "outputs": []
    },
    {
      "cell_type": "markdown",
      "metadata": {
        "id": "ja9uOfVDXV_T"
      },
      "source": [
        "Defining Keras Model"
      ]
    },
    {
      "cell_type": "code",
      "metadata": {
        "id": "nHcp5QH-XTrN"
      },
      "source": [
        "model = Sequential()\n",
        "model.add(Dense(12, input_dim = 8, activation = 'relu'))\n",
        "model.add(Dense(8, activation = 'relu'))\n",
        "model.add(Dense(1, activation = 'sigmoid'))"
      ],
      "execution_count": null,
      "outputs": []
    },
    {
      "cell_type": "markdown",
      "metadata": {
        "id": "3lgmm1CNXk_L"
      },
      "source": [
        "Compiling the Keras model"
      ]
    },
    {
      "cell_type": "code",
      "metadata": {
        "id": "RwmIhNGQXjQq"
      },
      "source": [
        "# Defining the \n",
        "\n",
        "model.compile(loss = 'binary_crossentropy', optimizer = 'adam', metrics = ['accuracy'])"
      ],
      "execution_count": null,
      "outputs": []
    },
    {
      "cell_type": "markdown",
      "metadata": {
        "id": "pCA78VrJYmM2"
      },
      "source": [
        "Fitting the keras model on the dataset"
      ]
    },
    {
      "cell_type": "code",
      "metadata": {
        "colab": {
          "base_uri": "https://localhost:8080/"
        },
        "id": "4NLM6NEuXtKc",
        "outputId": "84891a5b-8429-426b-bd40-16ac6aca53aa"
      },
      "source": [
        "model.fit(X, y, epochs = 150, batch_size = 10)"
      ],
      "execution_count": null,
      "outputs": [
        {
          "output_type": "stream",
          "text": [
            "Epoch 1/150\n",
            "77/77 [==============================] - 0s 962us/step - loss: 5.1310 - accuracy: 0.3698\n",
            "Epoch 2/150\n",
            "77/77 [==============================] - 0s 998us/step - loss: 1.2523 - accuracy: 0.5130\n",
            "Epoch 3/150\n",
            "77/77 [==============================] - 0s 1ms/step - loss: 0.7999 - accuracy: 0.5964\n",
            "Epoch 4/150\n",
            "77/77 [==============================] - 0s 984us/step - loss: 0.6966 - accuracy: 0.6432\n",
            "Epoch 5/150\n",
            "77/77 [==============================] - 0s 1ms/step - loss: 0.6574 - accuracy: 0.6615\n",
            "Epoch 6/150\n",
            "77/77 [==============================] - 0s 945us/step - loss: 0.6398 - accuracy: 0.6732\n",
            "Epoch 7/150\n",
            "77/77 [==============================] - 0s 966us/step - loss: 0.6029 - accuracy: 0.7005\n",
            "Epoch 8/150\n",
            "77/77 [==============================] - 0s 1ms/step - loss: 0.5993 - accuracy: 0.6979\n",
            "Epoch 9/150\n",
            "77/77 [==============================] - 0s 923us/step - loss: 0.6154 - accuracy: 0.6823\n",
            "Epoch 10/150\n",
            "77/77 [==============================] - 0s 969us/step - loss: 0.5907 - accuracy: 0.7031\n",
            "Epoch 11/150\n",
            "77/77 [==============================] - 0s 976us/step - loss: 0.5884 - accuracy: 0.6953\n",
            "Epoch 12/150\n",
            "77/77 [==============================] - 0s 1ms/step - loss: 0.6056 - accuracy: 0.6875\n",
            "Epoch 13/150\n",
            "77/77 [==============================] - 0s 1ms/step - loss: 0.5813 - accuracy: 0.6901\n",
            "Epoch 14/150\n",
            "77/77 [==============================] - 0s 1ms/step - loss: 0.5782 - accuracy: 0.7057\n",
            "Epoch 15/150\n",
            "77/77 [==============================] - 0s 1ms/step - loss: 0.5804 - accuracy: 0.7005\n",
            "Epoch 16/150\n",
            "77/77 [==============================] - 0s 1ms/step - loss: 0.5855 - accuracy: 0.6901\n",
            "Epoch 17/150\n",
            "77/77 [==============================] - 0s 964us/step - loss: 0.5829 - accuracy: 0.7005\n",
            "Epoch 18/150\n",
            "77/77 [==============================] - 0s 928us/step - loss: 0.5893 - accuracy: 0.7044\n",
            "Epoch 19/150\n",
            "77/77 [==============================] - 0s 954us/step - loss: 0.5782 - accuracy: 0.7096\n",
            "Epoch 20/150\n",
            "77/77 [==============================] - 0s 960us/step - loss: 0.5800 - accuracy: 0.6966\n",
            "Epoch 21/150\n",
            "77/77 [==============================] - 0s 973us/step - loss: 0.5747 - accuracy: 0.6953\n",
            "Epoch 22/150\n",
            "77/77 [==============================] - 0s 1ms/step - loss: 0.5686 - accuracy: 0.7031\n",
            "Epoch 23/150\n",
            "77/77 [==============================] - 0s 967us/step - loss: 0.5700 - accuracy: 0.6966\n",
            "Epoch 24/150\n",
            "77/77 [==============================] - 0s 1ms/step - loss: 0.5768 - accuracy: 0.7057\n",
            "Epoch 25/150\n",
            "77/77 [==============================] - 0s 989us/step - loss: 0.5699 - accuracy: 0.7018\n",
            "Epoch 26/150\n",
            "77/77 [==============================] - 0s 946us/step - loss: 0.5651 - accuracy: 0.6901\n",
            "Epoch 27/150\n",
            "77/77 [==============================] - 0s 1ms/step - loss: 0.5709 - accuracy: 0.6992\n",
            "Epoch 28/150\n",
            "77/77 [==============================] - 0s 961us/step - loss: 0.5677 - accuracy: 0.7005\n",
            "Epoch 29/150\n",
            "77/77 [==============================] - 0s 924us/step - loss: 0.5767 - accuracy: 0.6953\n",
            "Epoch 30/150\n",
            "77/77 [==============================] - 0s 981us/step - loss: 0.5625 - accuracy: 0.7083\n",
            "Epoch 31/150\n",
            "77/77 [==============================] - 0s 920us/step - loss: 0.5673 - accuracy: 0.7083\n",
            "Epoch 32/150\n",
            "77/77 [==============================] - 0s 960us/step - loss: 0.5712 - accuracy: 0.7031\n",
            "Epoch 33/150\n",
            "77/77 [==============================] - 0s 972us/step - loss: 0.5624 - accuracy: 0.7122\n",
            "Epoch 34/150\n",
            "77/77 [==============================] - 0s 968us/step - loss: 0.5622 - accuracy: 0.7083\n",
            "Epoch 35/150\n",
            "77/77 [==============================] - 0s 934us/step - loss: 0.6077 - accuracy: 0.6940\n",
            "Epoch 36/150\n",
            "77/77 [==============================] - 0s 961us/step - loss: 0.5594 - accuracy: 0.7083\n",
            "Epoch 37/150\n",
            "77/77 [==============================] - 0s 956us/step - loss: 0.5650 - accuracy: 0.7083\n",
            "Epoch 38/150\n",
            "77/77 [==============================] - 0s 963us/step - loss: 0.5747 - accuracy: 0.6992\n",
            "Epoch 39/150\n",
            "77/77 [==============================] - 0s 1ms/step - loss: 0.5883 - accuracy: 0.7005\n",
            "Epoch 40/150\n",
            "77/77 [==============================] - 0s 1ms/step - loss: 0.5725 - accuracy: 0.7057\n",
            "Epoch 41/150\n",
            "77/77 [==============================] - 0s 983us/step - loss: 0.5636 - accuracy: 0.7096\n",
            "Epoch 42/150\n",
            "77/77 [==============================] - 0s 957us/step - loss: 0.5600 - accuracy: 0.7161\n",
            "Epoch 43/150\n",
            "77/77 [==============================] - 0s 981us/step - loss: 0.5587 - accuracy: 0.7031\n",
            "Epoch 44/150\n",
            "77/77 [==============================] - 0s 994us/step - loss: 0.5603 - accuracy: 0.7070\n",
            "Epoch 45/150\n",
            "77/77 [==============================] - 0s 991us/step - loss: 0.5595 - accuracy: 0.7109\n",
            "Epoch 46/150\n",
            "77/77 [==============================] - 0s 1ms/step - loss: 0.5555 - accuracy: 0.7109\n",
            "Epoch 47/150\n",
            "77/77 [==============================] - 0s 975us/step - loss: 0.5549 - accuracy: 0.7174\n",
            "Epoch 48/150\n",
            "77/77 [==============================] - 0s 961us/step - loss: 0.5584 - accuracy: 0.7148\n",
            "Epoch 49/150\n",
            "77/77 [==============================] - 0s 975us/step - loss: 0.5576 - accuracy: 0.7201\n",
            "Epoch 50/150\n",
            "77/77 [==============================] - 0s 1ms/step - loss: 0.5500 - accuracy: 0.7174\n",
            "Epoch 51/150\n",
            "77/77 [==============================] - 0s 978us/step - loss: 0.5572 - accuracy: 0.6888\n",
            "Epoch 52/150\n",
            "77/77 [==============================] - 0s 1ms/step - loss: 0.5536 - accuracy: 0.7096\n",
            "Epoch 53/150\n",
            "77/77 [==============================] - 0s 939us/step - loss: 0.5520 - accuracy: 0.7214\n",
            "Epoch 54/150\n",
            "77/77 [==============================] - 0s 958us/step - loss: 0.5546 - accuracy: 0.7148\n",
            "Epoch 55/150\n",
            "77/77 [==============================] - 0s 982us/step - loss: 0.5488 - accuracy: 0.7188\n",
            "Epoch 56/150\n",
            "77/77 [==============================] - 0s 951us/step - loss: 0.5545 - accuracy: 0.7161\n",
            "Epoch 57/150\n",
            "77/77 [==============================] - 0s 913us/step - loss: 0.5762 - accuracy: 0.6784\n",
            "Epoch 58/150\n",
            "77/77 [==============================] - 0s 1ms/step - loss: 0.5543 - accuracy: 0.6979\n",
            "Epoch 59/150\n",
            "77/77 [==============================] - 0s 1ms/step - loss: 0.5534 - accuracy: 0.7174\n",
            "Epoch 60/150\n",
            "77/77 [==============================] - 0s 977us/step - loss: 0.5437 - accuracy: 0.7214\n",
            "Epoch 61/150\n",
            "77/77 [==============================] - 0s 961us/step - loss: 0.5388 - accuracy: 0.7083\n",
            "Epoch 62/150\n",
            "77/77 [==============================] - 0s 1ms/step - loss: 0.5501 - accuracy: 0.7096\n",
            "Epoch 63/150\n",
            "77/77 [==============================] - 0s 1ms/step - loss: 0.5577 - accuracy: 0.7070\n",
            "Epoch 64/150\n",
            "77/77 [==============================] - 0s 1ms/step - loss: 0.5485 - accuracy: 0.7122\n",
            "Epoch 65/150\n",
            "77/77 [==============================] - 0s 984us/step - loss: 0.5725 - accuracy: 0.7135\n",
            "Epoch 66/150\n",
            "77/77 [==============================] - 0s 991us/step - loss: 0.5623 - accuracy: 0.7135\n",
            "Epoch 67/150\n",
            "77/77 [==============================] - 0s 983us/step - loss: 0.5448 - accuracy: 0.7057\n",
            "Epoch 68/150\n",
            "77/77 [==============================] - 0s 993us/step - loss: 0.5440 - accuracy: 0.7188\n",
            "Epoch 69/150\n",
            "77/77 [==============================] - 0s 1ms/step - loss: 0.5553 - accuracy: 0.7096\n",
            "Epoch 70/150\n",
            "77/77 [==============================] - 0s 957us/step - loss: 0.5467 - accuracy: 0.7057\n",
            "Epoch 71/150\n",
            "77/77 [==============================] - 0s 965us/step - loss: 0.5434 - accuracy: 0.7135\n",
            "Epoch 72/150\n",
            "77/77 [==============================] - 0s 971us/step - loss: 0.5400 - accuracy: 0.7188\n",
            "Epoch 73/150\n",
            "77/77 [==============================] - 0s 961us/step - loss: 0.5384 - accuracy: 0.7201\n",
            "Epoch 74/150\n",
            "77/77 [==============================] - 0s 978us/step - loss: 0.5375 - accuracy: 0.7188\n",
            "Epoch 75/150\n",
            "77/77 [==============================] - 0s 1ms/step - loss: 0.5505 - accuracy: 0.7240\n",
            "Epoch 76/150\n",
            "77/77 [==============================] - 0s 1ms/step - loss: 0.5436 - accuracy: 0.7201\n",
            "Epoch 77/150\n",
            "77/77 [==============================] - 0s 1ms/step - loss: 0.5361 - accuracy: 0.7083\n",
            "Epoch 78/150\n",
            "77/77 [==============================] - 0s 1ms/step - loss: 0.5395 - accuracy: 0.7044\n",
            "Epoch 79/150\n",
            "77/77 [==============================] - 0s 1ms/step - loss: 0.5448 - accuracy: 0.7292\n",
            "Epoch 80/150\n",
            "77/77 [==============================] - 0s 1ms/step - loss: 0.5331 - accuracy: 0.7148\n",
            "Epoch 81/150\n",
            "77/77 [==============================] - 0s 1ms/step - loss: 0.5349 - accuracy: 0.7279\n",
            "Epoch 82/150\n",
            "77/77 [==============================] - 0s 990us/step - loss: 0.5381 - accuracy: 0.7083\n",
            "Epoch 83/150\n",
            "77/77 [==============================] - 0s 970us/step - loss: 0.5343 - accuracy: 0.7174\n",
            "Epoch 84/150\n",
            "77/77 [==============================] - 0s 987us/step - loss: 0.5378 - accuracy: 0.7292\n",
            "Epoch 85/150\n",
            "77/77 [==============================] - 0s 981us/step - loss: 0.5324 - accuracy: 0.7188\n",
            "Epoch 86/150\n",
            "77/77 [==============================] - 0s 988us/step - loss: 0.5324 - accuracy: 0.7266\n",
            "Epoch 87/150\n",
            "77/77 [==============================] - 0s 1ms/step - loss: 0.5348 - accuracy: 0.7109\n",
            "Epoch 88/150\n",
            "77/77 [==============================] - 0s 989us/step - loss: 0.5292 - accuracy: 0.7292\n",
            "Epoch 89/150\n",
            "77/77 [==============================] - 0s 1ms/step - loss: 0.5278 - accuracy: 0.7083\n",
            "Epoch 90/150\n",
            "77/77 [==============================] - 0s 955us/step - loss: 0.5251 - accuracy: 0.7227\n",
            "Epoch 91/150\n",
            "77/77 [==============================] - 0s 946us/step - loss: 0.5321 - accuracy: 0.7227\n",
            "Epoch 92/150\n",
            "77/77 [==============================] - 0s 961us/step - loss: 0.5297 - accuracy: 0.7318\n",
            "Epoch 93/150\n",
            "77/77 [==============================] - 0s 1ms/step - loss: 0.5240 - accuracy: 0.7305\n",
            "Epoch 94/150\n",
            "77/77 [==============================] - 0s 1ms/step - loss: 0.5253 - accuracy: 0.7253\n",
            "Epoch 95/150\n",
            "77/77 [==============================] - 0s 1ms/step - loss: 0.5249 - accuracy: 0.7331\n",
            "Epoch 96/150\n",
            "77/77 [==============================] - 0s 990us/step - loss: 0.5256 - accuracy: 0.7344\n",
            "Epoch 97/150\n",
            "77/77 [==============================] - 0s 951us/step - loss: 0.5259 - accuracy: 0.7240\n",
            "Epoch 98/150\n",
            "77/77 [==============================] - 0s 982us/step - loss: 0.5316 - accuracy: 0.7305\n",
            "Epoch 99/150\n",
            "77/77 [==============================] - 0s 1ms/step - loss: 0.5260 - accuracy: 0.7201\n",
            "Epoch 100/150\n",
            "77/77 [==============================] - 0s 1ms/step - loss: 0.5267 - accuracy: 0.7240\n",
            "Epoch 101/150\n",
            "77/77 [==============================] - 0s 1ms/step - loss: 0.5194 - accuracy: 0.7396\n",
            "Epoch 102/150\n",
            "77/77 [==============================] - 0s 1ms/step - loss: 0.5267 - accuracy: 0.7279\n",
            "Epoch 103/150\n",
            "77/77 [==============================] - 0s 1ms/step - loss: 0.5282 - accuracy: 0.7318\n",
            "Epoch 104/150\n",
            "77/77 [==============================] - 0s 963us/step - loss: 0.5201 - accuracy: 0.7435\n",
            "Epoch 105/150\n",
            "77/77 [==============================] - 0s 1ms/step - loss: 0.5320 - accuracy: 0.7292\n",
            "Epoch 106/150\n",
            "77/77 [==============================] - 0s 1ms/step - loss: 0.5193 - accuracy: 0.7344\n",
            "Epoch 107/150\n",
            "77/77 [==============================] - 0s 1ms/step - loss: 0.5163 - accuracy: 0.7344\n",
            "Epoch 108/150\n",
            "77/77 [==============================] - 0s 1ms/step - loss: 0.5238 - accuracy: 0.7344\n",
            "Epoch 109/150\n",
            "77/77 [==============================] - 0s 1ms/step - loss: 0.5275 - accuracy: 0.7279\n",
            "Epoch 110/150\n",
            "77/77 [==============================] - 0s 995us/step - loss: 0.5228 - accuracy: 0.7370\n",
            "Epoch 111/150\n",
            "77/77 [==============================] - 0s 998us/step - loss: 0.5188 - accuracy: 0.7357\n",
            "Epoch 112/150\n",
            "77/77 [==============================] - 0s 1ms/step - loss: 0.5524 - accuracy: 0.7344\n",
            "Epoch 113/150\n",
            "77/77 [==============================] - 0s 1ms/step - loss: 0.5426 - accuracy: 0.7344\n",
            "Epoch 114/150\n",
            "77/77 [==============================] - 0s 1ms/step - loss: 0.5162 - accuracy: 0.7370\n",
            "Epoch 115/150\n",
            "77/77 [==============================] - 0s 988us/step - loss: 0.5285 - accuracy: 0.7370\n",
            "Epoch 116/150\n",
            "77/77 [==============================] - 0s 999us/step - loss: 0.5204 - accuracy: 0.7396\n",
            "Epoch 117/150\n",
            "77/77 [==============================] - 0s 963us/step - loss: 0.5202 - accuracy: 0.7331\n",
            "Epoch 118/150\n",
            "77/77 [==============================] - 0s 1ms/step - loss: 0.5163 - accuracy: 0.7396\n",
            "Epoch 119/150\n",
            "77/77 [==============================] - 0s 1ms/step - loss: 0.5195 - accuracy: 0.7396\n",
            "Epoch 120/150\n",
            "77/77 [==============================] - 0s 1ms/step - loss: 0.5161 - accuracy: 0.7526\n",
            "Epoch 121/150\n",
            "77/77 [==============================] - 0s 1ms/step - loss: 0.5153 - accuracy: 0.7500\n",
            "Epoch 122/150\n",
            "77/77 [==============================] - 0s 996us/step - loss: 0.5123 - accuracy: 0.7305\n",
            "Epoch 123/150\n",
            "77/77 [==============================] - 0s 995us/step - loss: 0.5118 - accuracy: 0.7383\n",
            "Epoch 124/150\n",
            "77/77 [==============================] - 0s 1ms/step - loss: 0.5076 - accuracy: 0.7487\n",
            "Epoch 125/150\n",
            "77/77 [==============================] - 0s 1ms/step - loss: 0.5217 - accuracy: 0.7357\n",
            "Epoch 126/150\n",
            "77/77 [==============================] - 0s 1ms/step - loss: 0.5114 - accuracy: 0.7383\n",
            "Epoch 127/150\n",
            "77/77 [==============================] - 0s 1ms/step - loss: 0.5087 - accuracy: 0.7344\n",
            "Epoch 128/150\n",
            "77/77 [==============================] - 0s 1ms/step - loss: 0.5084 - accuracy: 0.7370\n",
            "Epoch 129/150\n",
            "77/77 [==============================] - 0s 1ms/step - loss: 0.5066 - accuracy: 0.7461\n",
            "Epoch 130/150\n",
            "77/77 [==============================] - 0s 1ms/step - loss: 0.5051 - accuracy: 0.7409\n",
            "Epoch 131/150\n",
            "77/77 [==============================] - 0s 1ms/step - loss: 0.5116 - accuracy: 0.7461\n",
            "Epoch 132/150\n",
            "77/77 [==============================] - 0s 1ms/step - loss: 0.5054 - accuracy: 0.7500\n",
            "Epoch 133/150\n",
            "77/77 [==============================] - 0s 954us/step - loss: 0.5002 - accuracy: 0.7461\n",
            "Epoch 134/150\n",
            "77/77 [==============================] - 0s 1ms/step - loss: 0.5145 - accuracy: 0.7422\n",
            "Epoch 135/150\n",
            "77/77 [==============================] - 0s 1ms/step - loss: 0.5049 - accuracy: 0.7448\n",
            "Epoch 136/150\n",
            "77/77 [==============================] - 0s 1ms/step - loss: 0.5267 - accuracy: 0.7344\n",
            "Epoch 137/150\n",
            "77/77 [==============================] - 0s 1ms/step - loss: 0.5031 - accuracy: 0.7539\n",
            "Epoch 138/150\n",
            "77/77 [==============================] - 0s 1ms/step - loss: 0.5015 - accuracy: 0.7643\n",
            "Epoch 139/150\n",
            "77/77 [==============================] - 0s 1ms/step - loss: 0.5026 - accuracy: 0.7448\n",
            "Epoch 140/150\n",
            "77/77 [==============================] - 0s 1ms/step - loss: 0.4971 - accuracy: 0.7565\n",
            "Epoch 141/150\n",
            "77/77 [==============================] - 0s 1ms/step - loss: 0.5024 - accuracy: 0.7461\n",
            "Epoch 142/150\n",
            "77/77 [==============================] - 0s 1ms/step - loss: 0.5002 - accuracy: 0.7578\n",
            "Epoch 143/150\n",
            "77/77 [==============================] - 0s 1ms/step - loss: 0.5005 - accuracy: 0.7552\n",
            "Epoch 144/150\n",
            "77/77 [==============================] - 0s 1ms/step - loss: 0.5072 - accuracy: 0.7565\n",
            "Epoch 145/150\n",
            "77/77 [==============================] - 0s 1ms/step - loss: 0.4987 - accuracy: 0.7526\n",
            "Epoch 146/150\n",
            "77/77 [==============================] - 0s 1ms/step - loss: 0.4983 - accuracy: 0.7526\n",
            "Epoch 147/150\n",
            "77/77 [==============================] - 0s 968us/step - loss: 0.5020 - accuracy: 0.7591\n",
            "Epoch 148/150\n",
            "77/77 [==============================] - 0s 1ms/step - loss: 0.4983 - accuracy: 0.7500\n",
            "Epoch 149/150\n",
            "77/77 [==============================] - 0s 985us/step - loss: 0.5109 - accuracy: 0.7435\n",
            "Epoch 150/150\n",
            "77/77 [==============================] - 0s 1ms/step - loss: 0.5019 - accuracy: 0.7474\n"
          ],
          "name": "stdout"
        },
        {
          "output_type": "execute_result",
          "data": {
            "text/plain": [
              "<tensorflow.python.keras.callbacks.History at 0x7f1e79bc9710>"
            ]
          },
          "metadata": {
            "tags": []
          },
          "execution_count": 15
        }
      ]
    },
    {
      "cell_type": "markdown",
      "metadata": {
        "id": "mLa5S4PRY7xx"
      },
      "source": [
        "Evaluate the Keras Model"
      ]
    },
    {
      "cell_type": "code",
      "metadata": {
        "colab": {
          "base_uri": "https://localhost:8080/"
        },
        "id": "qc2lyqwNYsLK",
        "outputId": "a348915d-dab2-43af-e526-6cc641dc33a4"
      },
      "source": [
        "_, accuracy = model.evaluate(X, y)\n",
        "print('Accuracy : %.2f' % (accuracy * 100))"
      ],
      "execution_count": null,
      "outputs": [
        {
          "output_type": "stream",
          "text": [
            "24/24 [==============================] - 0s 948us/step - loss: 0.4809 - accuracy: 0.7604\n",
            "Accuracy : 76.04\n"
          ],
          "name": "stdout"
        }
      ]
    },
    {
      "cell_type": "markdown",
      "metadata": {
        "id": "AkROryCZZXOm"
      },
      "source": [
        "Making Predictions with the model"
      ]
    },
    {
      "cell_type": "code",
      "metadata": {
        "id": "HtOcRNKGZF0H"
      },
      "source": [
        "predictions = model.predict(X)\n",
        "rounded = [round(x[0]) for x in predictions]"
      ],
      "execution_count": null,
      "outputs": []
    },
    {
      "cell_type": "code",
      "metadata": {
        "colab": {
          "base_uri": "https://localhost:8080/"
        },
        "id": "1TSRIiH0ZewS",
        "outputId": "7a0a17bd-5f9b-4b85-b82c-c18a9d17d83b"
      },
      "source": [
        "predictions = model.predict_classes(X)\n",
        "\n",
        "for i in range(5):\n",
        "\n",
        "  print('%s => %d (expected %d)' % (X[i].tolist(), predictions[i], y[i]))"
      ],
      "execution_count": null,
      "outputs": [
        {
          "output_type": "stream",
          "text": [
            "WARNING:tensorflow:From <ipython-input-18-ba27c1cc2e8c>:1: Sequential.predict_classes (from tensorflow.python.keras.engine.sequential) is deprecated and will be removed after 2021-01-01.\n",
            "Instructions for updating:\n",
            "Please use instead:* `np.argmax(model.predict(x), axis=-1)`,   if your model does multi-class classification   (e.g. if it uses a `softmax` last-layer activation).* `(model.predict(x) > 0.5).astype(\"int32\")`,   if your model does binary classification   (e.g. if it uses a `sigmoid` last-layer activation).\n",
            "[6.0, 148.0, 72.0, 35.0, 0.0, 33.6, 0.627, 50.0] => 1 (expected 1)\n",
            "[1.0, 85.0, 66.0, 29.0, 0.0, 26.6, 0.351, 31.0] => 0 (expected 0)\n",
            "[8.0, 183.0, 64.0, 0.0, 0.0, 23.3, 0.672, 32.0] => 1 (expected 1)\n",
            "[1.0, 89.0, 66.0, 23.0, 94.0, 28.1, 0.167, 21.0] => 0 (expected 0)\n",
            "[0.0, 137.0, 40.0, 35.0, 168.0, 43.1, 2.288, 33.0] => 1 (expected 1)\n"
          ],
          "name": "stdout"
        }
      ]
    },
    {
      "cell_type": "code",
      "metadata": {
        "id": "65CDsHuYaLfx"
      },
      "source": [
        ""
      ],
      "execution_count": null,
      "outputs": []
    }
  ]
}